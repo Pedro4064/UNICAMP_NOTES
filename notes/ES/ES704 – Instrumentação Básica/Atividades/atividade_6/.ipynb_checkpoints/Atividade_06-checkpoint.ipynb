{
 "cells": [
  {
   "cell_type": "markdown",
   "id": "4327750a-c294-4e77-8fe4-7a884b6d5fa2",
   "metadata": {
    "tags": []
   },
   "source": [
    "# Análise de Incertezas - Medição de Temperatura\n",
    "\n",
    "O sistema de medição possui as seguintes características:\n"
   ]
  },
  {
   "cell_type": "code",
   "execution_count": 4,
   "id": "068f6fff-a7ce-45be-a8bc-7b69526d569e",
   "metadata": {
    "tags": []
   },
   "outputs": [],
   "source": [
    "resolution = 0.01;     % Resolução do sensor\n",
    "uncertainties = 1e-2;  % Incerteza do Sensor\n",
    "target_temp = 23;      % Temperatura alvo\n",
    "target_temp_var = 2;   % Variação de temperatura alvo"
   ]
  }
 ],
 "metadata": {
  "kernelspec": {
   "display_name": "MATLAB Kernel",
   "language": "matlab",
   "name": "jupyter_matlab_kernel"
  },
  "language_info": {
   "file_extension": ".m",
   "mimetype": "text/x-matlab",
   "name": "matlab"
  }
 },
 "nbformat": 4,
 "nbformat_minor": 5
}
